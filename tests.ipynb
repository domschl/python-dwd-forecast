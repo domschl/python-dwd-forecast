{
 "cells": [
  {
   "cell_type": "code",
   "execution_count": 1,
   "metadata": {},
   "outputs": [],
   "source": [
    "import logging\n",
    "import matplotlib.pyplot as plt\n",
    "%matplotlib inline\n",
    "\n",
    "from IPython.display import Image\n",
    "from IPython.core.display import HTML"
   ]
  },
  {
   "cell_type": "code",
   "execution_count": 2,
   "metadata": {},
   "outputs": [],
   "source": [
    "logging.basicConfig(format='%(asctime)s %(levelname)s %(name)s %(message)s', level=logging.DEBUG)\n",
    "mpl=logging.getLogger('matplotlib')\n",
    "mpl.setLevel(logging.WARNING)"
   ]
  },
  {
   "cell_type": "code",
   "execution_count": 3,
   "metadata": {},
   "outputs": [],
   "source": [
    "%load_ext autoreload\n",
    "%autoreload 2"
   ]
  },
  {
   "cell_type": "code",
   "execution_count": 4,
   "metadata": {},
   "outputs": [],
   "source": [
    "from dwd_forecast import DWD\n",
    "from weather_plot import DwdForecastPlot"
   ]
  },
  {
   "cell_type": "code",
   "execution_count": 5,
   "metadata": {},
   "outputs": [],
   "source": [
    "d=DWD()"
   ]
  },
  {
   "cell_type": "code",
   "execution_count": 6,
   "metadata": {},
   "outputs": [
    {
     "name": "stderr",
     "output_type": "stream",
     "text": [
      "2020-03-27 18:22:30,533 DEBUG DWD Read station list ./cache/station-list.json from cache\n"
     ]
    }
   ],
   "source": [
    "sl=d.read_station_list()"
   ]
  },
  {
   "cell_type": "code",
   "execution_count": 7,
   "metadata": {},
   "outputs": [
    {
     "data": {
      "text/html": [
       "<div>\n",
       "<style scoped>\n",
       "    .dataframe tbody tr th:only-of-type {\n",
       "        vertical-align: middle;\n",
       "    }\n",
       "\n",
       "    .dataframe tbody tr th {\n",
       "        vertical-align: top;\n",
       "    }\n",
       "\n",
       "    .dataframe thead th {\n",
       "        text-align: right;\n",
       "    }\n",
       "</style>\n",
       "<table border=\"1\" class=\"dataframe\">\n",
       "  <thead>\n",
       "    <tr style=\"text-align: right;\">\n",
       "      <th></th>\n",
       "      <th>Stationsname</th>\n",
       "      <th>Stations_ID</th>\n",
       "      <th>Kennung</th>\n",
       "      <th>Stations-kennung</th>\n",
       "      <th>Breite</th>\n",
       "      <th>Länge</th>\n",
       "      <th>Stations-höhe</th>\n",
       "      <th>Flussgebiet</th>\n",
       "      <th>Bundesland</th>\n",
       "      <th>Beginn</th>\n",
       "      <th>Ende</th>\n",
       "      <th>BeginnDT</th>\n",
       "      <th>EndeDT</th>\n",
       "    </tr>\n",
       "  </thead>\n",
       "  <tbody>\n",
       "    <tr>\n",
       "      <th>0</th>\n",
       "      <td>Aach</td>\n",
       "      <td>1</td>\n",
       "      <td>KL</td>\n",
       "      <td>02783</td>\n",
       "      <td>47.8410</td>\n",
       "      <td>8.8490</td>\n",
       "      <td>478</td>\n",
       "      <td>NaN</td>\n",
       "      <td>BW</td>\n",
       "      <td>01.01.1937</td>\n",
       "      <td>30.06.1986</td>\n",
       "      <td>1937-01-01</td>\n",
       "      <td>1986-06-30</td>\n",
       "    </tr>\n",
       "    <tr>\n",
       "      <th>1</th>\n",
       "      <td>Aach</td>\n",
       "      <td>1</td>\n",
       "      <td>RR</td>\n",
       "      <td>70191</td>\n",
       "      <td>47.8410</td>\n",
       "      <td>8.8490</td>\n",
       "      <td>478</td>\n",
       "      <td>NaN</td>\n",
       "      <td>BW</td>\n",
       "      <td>01.01.1912</td>\n",
       "      <td>30.06.1986</td>\n",
       "      <td>1912-01-01</td>\n",
       "      <td>1986-06-30</td>\n",
       "    </tr>\n",
       "    <tr>\n",
       "      <th>2</th>\n",
       "      <td>Aach/Hegau</td>\n",
       "      <td>10771</td>\n",
       "      <td>PE</td>\n",
       "      <td>10771</td>\n",
       "      <td>47.8500</td>\n",
       "      <td>8.8500</td>\n",
       "      <td>480</td>\n",
       "      <td>NaN</td>\n",
       "      <td>BW</td>\n",
       "      <td>None</td>\n",
       "      <td>None</td>\n",
       "      <td>NaT</td>\n",
       "      <td>NaT</td>\n",
       "    </tr>\n",
       "    <tr>\n",
       "      <th>3</th>\n",
       "      <td>Aachen</td>\n",
       "      <td>3</td>\n",
       "      <td>EB</td>\n",
       "      <td>02205</td>\n",
       "      <td>50.7827</td>\n",
       "      <td>6.0941</td>\n",
       "      <td>202</td>\n",
       "      <td>803100.0</td>\n",
       "      <td>NW</td>\n",
       "      <td>01.01.1951</td>\n",
       "      <td>31.03.2011</td>\n",
       "      <td>1951-01-01</td>\n",
       "      <td>2011-03-31</td>\n",
       "    </tr>\n",
       "    <tr>\n",
       "      <th>4</th>\n",
       "      <td>Aachen</td>\n",
       "      <td>3</td>\n",
       "      <td>FF</td>\n",
       "      <td>02205</td>\n",
       "      <td>50.7827</td>\n",
       "      <td>6.0941</td>\n",
       "      <td>202</td>\n",
       "      <td>803100.0</td>\n",
       "      <td>NW</td>\n",
       "      <td>01.01.1937</td>\n",
       "      <td>31.03.2011</td>\n",
       "      <td>1937-01-01</td>\n",
       "      <td>2011-03-31</td>\n",
       "    </tr>\n",
       "  </tbody>\n",
       "</table>\n",
       "</div>"
      ],
      "text/plain": [
       "  Stationsname  Stations_ID Kennung Stations-kennung   Breite   Länge  \\\n",
       "0         Aach            1      KL            02783  47.8410  8.8490   \n",
       "1         Aach            1      RR            70191  47.8410  8.8490   \n",
       "2   Aach/Hegau        10771      PE            10771  47.8500  8.8500   \n",
       "3       Aachen            3      EB            02205  50.7827  6.0941   \n",
       "4       Aachen            3      FF            02205  50.7827  6.0941   \n",
       "\n",
       "   Stations-höhe  Flussgebiet Bundesland      Beginn        Ende   BeginnDT  \\\n",
       "0            478          NaN         BW  01.01.1937  30.06.1986 1937-01-01   \n",
       "1            478          NaN         BW  01.01.1912  30.06.1986 1912-01-01   \n",
       "2            480          NaN         BW        None        None        NaT   \n",
       "3            202     803100.0         NW  01.01.1951  31.03.2011 1951-01-01   \n",
       "4            202     803100.0         NW  01.01.1937  31.03.2011 1937-01-01   \n",
       "\n",
       "      EndeDT  \n",
       "0 1986-06-30  \n",
       "1 1986-06-30  \n",
       "2        NaT  \n",
       "3 2011-03-31  \n",
       "4 2011-03-31  "
      ]
     },
     "execution_count": 7,
     "metadata": {},
     "output_type": "execute_result"
    }
   ],
   "source": [
    "sl.head()"
   ]
  },
  {
   "cell_type": "code",
   "execution_count": 8,
   "metadata": {},
   "outputs": [
    {
     "name": "stderr",
     "output_type": "stream",
     "text": [
      "2020-03-27 18:22:32,774 DEBUG DWD Station forecast 10865 read from cache ./cache/station-forecast-10865.json\n"
     ]
    }
   ],
   "source": [
    "dwc=d.station_forecast('10865')"
   ]
  },
  {
   "cell_type": "code",
   "execution_count": 9,
   "metadata": {},
   "outputs": [
    {
     "data": {
      "text/html": [
       "<div>\n",
       "<style scoped>\n",
       "    .dataframe tbody tr th:only-of-type {\n",
       "        vertical-align: middle;\n",
       "    }\n",
       "\n",
       "    .dataframe tbody tr th {\n",
       "        vertical-align: top;\n",
       "    }\n",
       "\n",
       "    .dataframe thead th {\n",
       "        text-align: right;\n",
       "    }\n",
       "</style>\n",
       "<table border=\"1\" class=\"dataframe\">\n",
       "  <thead>\n",
       "    <tr style=\"text-align: right;\">\n",
       "      <th></th>\n",
       "      <th>PPPP</th>\n",
       "      <th>E_PPP</th>\n",
       "      <th>TX</th>\n",
       "      <th>TTT</th>\n",
       "      <th>E_TTT</th>\n",
       "      <th>Td</th>\n",
       "      <th>E_Td</th>\n",
       "      <th>TN</th>\n",
       "      <th>TG</th>\n",
       "      <th>TM</th>\n",
       "      <th>...</th>\n",
       "      <th>RRad1</th>\n",
       "      <th>Rad1h</th>\n",
       "      <th>SunD1</th>\n",
       "      <th>SunD3</th>\n",
       "      <th>PEvap</th>\n",
       "      <th>WPc11</th>\n",
       "      <th>WPc31</th>\n",
       "      <th>WPc61</th>\n",
       "      <th>WPch1</th>\n",
       "      <th>WPcd1</th>\n",
       "    </tr>\n",
       "  </thead>\n",
       "  <tbody>\n",
       "    <tr>\n",
       "      <th>2020-03-27 16:00:00</th>\n",
       "      <td>101180</td>\n",
       "      <td>20</td>\n",
       "      <td>NaN</td>\n",
       "      <td>288.55</td>\n",
       "      <td>0.5</td>\n",
       "      <td>274.55</td>\n",
       "      <td>0.7</td>\n",
       "      <td>NaN</td>\n",
       "      <td>NaN</td>\n",
       "      <td>NaN</td>\n",
       "      <td>...</td>\n",
       "      <td>NaN</td>\n",
       "      <td>NaN</td>\n",
       "      <td>3000</td>\n",
       "      <td>9540.0</td>\n",
       "      <td>NaN</td>\n",
       "      <td>1.0</td>\n",
       "      <td>NaN</td>\n",
       "      <td>NaN</td>\n",
       "      <td>NaN</td>\n",
       "      <td>NaN</td>\n",
       "    </tr>\n",
       "    <tr>\n",
       "      <th>2020-03-27 17:00:00</th>\n",
       "      <td>101230</td>\n",
       "      <td>40</td>\n",
       "      <td>NaN</td>\n",
       "      <td>287.05</td>\n",
       "      <td>0.5</td>\n",
       "      <td>274.75</td>\n",
       "      <td>0.8</td>\n",
       "      <td>NaN</td>\n",
       "      <td>NaN</td>\n",
       "      <td>NaN</td>\n",
       "      <td>...</td>\n",
       "      <td>NaN</td>\n",
       "      <td>NaN</td>\n",
       "      <td>2100</td>\n",
       "      <td>8220.0</td>\n",
       "      <td>NaN</td>\n",
       "      <td>1.0</td>\n",
       "      <td>NaN</td>\n",
       "      <td>NaN</td>\n",
       "      <td>NaN</td>\n",
       "      <td>NaN</td>\n",
       "    </tr>\n",
       "    <tr>\n",
       "      <th>2020-03-27 18:00:00</th>\n",
       "      <td>101310</td>\n",
       "      <td>50</td>\n",
       "      <td>290.05</td>\n",
       "      <td>285.55</td>\n",
       "      <td>0.7</td>\n",
       "      <td>275.05</td>\n",
       "      <td>1.1</td>\n",
       "      <td>274.35</td>\n",
       "      <td>NaN</td>\n",
       "      <td>NaN</td>\n",
       "      <td>...</td>\n",
       "      <td>NaN</td>\n",
       "      <td>NaN</td>\n",
       "      <td>1020</td>\n",
       "      <td>6960.0</td>\n",
       "      <td>NaN</td>\n",
       "      <td>1.0</td>\n",
       "      <td>1.0</td>\n",
       "      <td>1.0</td>\n",
       "      <td>NaN</td>\n",
       "      <td>NaN</td>\n",
       "    </tr>\n",
       "    <tr>\n",
       "      <th>2020-03-27 19:00:00</th>\n",
       "      <td>101400</td>\n",
       "      <td>50</td>\n",
       "      <td>NaN</td>\n",
       "      <td>284.25</td>\n",
       "      <td>0.7</td>\n",
       "      <td>274.95</td>\n",
       "      <td>1.1</td>\n",
       "      <td>NaN</td>\n",
       "      <td>NaN</td>\n",
       "      <td>NaN</td>\n",
       "      <td>...</td>\n",
       "      <td>NaN</td>\n",
       "      <td>NaN</td>\n",
       "      <td>0</td>\n",
       "      <td>4680.0</td>\n",
       "      <td>NaN</td>\n",
       "      <td>1.0</td>\n",
       "      <td>NaN</td>\n",
       "      <td>NaN</td>\n",
       "      <td>NaN</td>\n",
       "      <td>NaN</td>\n",
       "    </tr>\n",
       "    <tr>\n",
       "      <th>2020-03-27 20:00:00</th>\n",
       "      <td>101470</td>\n",
       "      <td>60</td>\n",
       "      <td>NaN</td>\n",
       "      <td>283.05</td>\n",
       "      <td>0.9</td>\n",
       "      <td>275.05</td>\n",
       "      <td>1.0</td>\n",
       "      <td>NaN</td>\n",
       "      <td>NaN</td>\n",
       "      <td>NaN</td>\n",
       "      <td>...</td>\n",
       "      <td>NaN</td>\n",
       "      <td>NaN</td>\n",
       "      <td>0</td>\n",
       "      <td>2400.0</td>\n",
       "      <td>NaN</td>\n",
       "      <td>1.0</td>\n",
       "      <td>NaN</td>\n",
       "      <td>NaN</td>\n",
       "      <td>NaN</td>\n",
       "      <td>NaN</td>\n",
       "    </tr>\n",
       "  </tbody>\n",
       "</table>\n",
       "<p>5 rows × 114 columns</p>\n",
       "</div>"
      ],
      "text/plain": [
       "                       PPPP  E_PPP      TX     TTT  E_TTT      Td  E_Td  \\\n",
       "2020-03-27 16:00:00  101180     20     NaN  288.55    0.5  274.55   0.7   \n",
       "2020-03-27 17:00:00  101230     40     NaN  287.05    0.5  274.75   0.8   \n",
       "2020-03-27 18:00:00  101310     50  290.05  285.55    0.7  275.05   1.1   \n",
       "2020-03-27 19:00:00  101400     50     NaN  284.25    0.7  274.95   1.1   \n",
       "2020-03-27 20:00:00  101470     60     NaN  283.05    0.9  275.05   1.0   \n",
       "\n",
       "                         TN  TG  TM  ...  RRad1  Rad1h  SunD1   SunD3  PEvap  \\\n",
       "2020-03-27 16:00:00     NaN NaN NaN  ...    NaN    NaN   3000  9540.0    NaN   \n",
       "2020-03-27 17:00:00     NaN NaN NaN  ...    NaN    NaN   2100  8220.0    NaN   \n",
       "2020-03-27 18:00:00  274.35 NaN NaN  ...    NaN    NaN   1020  6960.0    NaN   \n",
       "2020-03-27 19:00:00     NaN NaN NaN  ...    NaN    NaN      0  4680.0    NaN   \n",
       "2020-03-27 20:00:00     NaN NaN NaN  ...    NaN    NaN      0  2400.0    NaN   \n",
       "\n",
       "                     WPc11  WPc31  WPc61  WPch1  WPcd1  \n",
       "2020-03-27 16:00:00    1.0    NaN    NaN    NaN    NaN  \n",
       "2020-03-27 17:00:00    1.0    NaN    NaN    NaN    NaN  \n",
       "2020-03-27 18:00:00    1.0    1.0    1.0    NaN    NaN  \n",
       "2020-03-27 19:00:00    1.0    NaN    NaN    NaN    NaN  \n",
       "2020-03-27 20:00:00    1.0    NaN    NaN    NaN    NaN  \n",
       "\n",
       "[5 rows x 114 columns]"
      ]
     },
     "execution_count": 9,
     "metadata": {},
     "output_type": "execute_result"
    }
   ],
   "source": [
    "dwc.head()"
   ]
  },
  {
   "cell_type": "code",
   "execution_count": 10,
   "metadata": {},
   "outputs": [],
   "source": [
    "my_lat, my_lon=(48.15, 11.56)"
   ]
  },
  {
   "cell_type": "code",
   "execution_count": 11,
   "metadata": {},
   "outputs": [
    {
     "name": "stderr",
     "output_type": "stream",
     "text": [
      "2020-03-27 18:22:36,560 DEBUG root Station 04124 fails\n",
      "2020-03-27 18:22:36,623 DEBUG root Station 04124 fails\n",
      "2020-03-27 18:22:36,692 DEBUG root Station 04124 fails\n"
     ]
    },
    {
     "name": "stdout",
     "output_type": "stream",
     "text": [
      "('10865', 'München-Stadt', Distance(1.9339969383980125))\n"
     ]
    }
   ],
   "source": [
    "nearest=d.get_closest(my_lat,my_lon)\n",
    "print(nearest)"
   ]
  },
  {
   "cell_type": "code",
   "execution_count": 12,
   "metadata": {},
   "outputs": [],
   "source": [
    "wp=DwdForecastPlot()"
   ]
  },
  {
   "cell_type": "code",
   "execution_count": 13,
   "metadata": {},
   "outputs": [
    {
     "name": "stderr",
     "output_type": "stream",
     "text": [
      "2020-03-27 18:22:38,993 DEBUG DWD Station forecast 10865 read from cache ./cache/station-forecast-10865.json\n"
     ]
    },
    {
     "data": {
      "image/png": "[encoded data removed]",
      "text/plain": [
       "<IPython.core.display.Image object>"
      ]
     },
     "execution_count": 13,
     "metadata": {},
     "output_type": "execute_result"
    }
   ],
   "source": [
    "wp.plot(\"10865\",image_file='weather.png')\n",
    "Image('weather.png')"
   ]
  },
  {
   "cell_type": "code",
   "execution_count": 14,
   "metadata": {},
   "outputs": [],
   "source": [
    "from ipyleaflet import Map, Marker, MarkerCluster, AwesomeIcon"
   ]
  },
  {
   "cell_type": "code",
   "execution_count": 15,
   "metadata": {},
   "outputs": [],
   "source": [
    "icon_home = AwesomeIcon(\n",
    "    name='home',\n",
    "    marker_color='blue',\n",
    "    icon_color='black',\n",
    "    spin=False\n",
    ")\n",
    "icon_station = AwesomeIcon(\n",
    "    name = 'thermometer-4',\n",
    "    marker_color='blue',\n",
    "    icon_color='black',\n",
    "    spin=False\n",
    ")\n"
   ]
  },
  {
   "cell_type": "code",
   "execution_count": 17,
   "metadata": {},
   "outputs": [],
   "source": [
    "home=(my_lat,my_lon)\n",
    "center=(min(sl['Breite'])+(max(sl['Breite'])-min(sl['Breite']))/2, min(sl['Länge'])+(max(sl['Länge'])-min(sl['Länge']))/2)\n",
    "m=Map(center=center, zoom=8)"
   ]
  },
  {
   "cell_type": "code",
   "execution_count": 18,
   "metadata": {},
   "outputs": [
    {
     "data": {
      "application/vnd.jupyter.widget-view+json": {
       "model_id": "6440d215da3b47c985ce7179a2f44a44",
       "version_major": 2,
       "version_minor": 0
      },
      "text/plain": [
       "Map(center=[51.141000000000005, 10.469999999999999], controls=(ZoomControl(options=['position', 'zoom_in_text'…"
      ]
     },
     "metadata": {},
     "output_type": "display_data"
    }
   ],
   "source": [
    "marker = Marker(location=home, icon=icon_home, draggable=False, title=\"DWD weather station\")\n",
    "m.add_layer(marker);\n",
    "\n",
    "display(m)"
   ]
  },
  {
   "cell_type": "code",
   "execution_count": 19,
   "metadata": {},
   "outputs": [
    {
     "data": {
      "text/plain": [
       "47.271"
      ]
     },
     "execution_count": 19,
     "metadata": {},
     "output_type": "execute_result"
    }
   ],
   "source": [
    "min(sl['Breite'])"
   ]
  },
  {
   "cell_type": "code",
   "execution_count": 20,
   "metadata": {},
   "outputs": [
    {
     "data": {
      "text/plain": [
       "55.011"
      ]
     },
     "execution_count": 20,
     "metadata": {},
     "output_type": "execute_result"
    }
   ],
   "source": [
    "max(sl['Breite'])"
   ]
  },
  {
   "cell_type": "code",
   "execution_count": 21,
   "metadata": {},
   "outputs": [],
   "source": [
    "import pandas as pd"
   ]
  },
  {
   "cell_type": "code",
   "execution_count": 22,
   "metadata": {},
   "outputs": [],
   "source": [
    "stations=[]\n",
    "for i in range(len(sl)):\n",
    "    if d._is_uptodate(i) is True:\n",
    "        stations.append((sl['Breite'][i], sl['Länge'][i], sl['Stationsname'][i], sl['Kennung'][i], sl['Stations-kennung'][i], sl['Ende'][i]))"
   ]
  },
  {
   "cell_type": "code",
   "execution_count": 23,
   "metadata": {},
   "outputs": [
    {
     "data": {
      "text/plain": [
       "5895"
      ]
     },
     "execution_count": 23,
     "metadata": {},
     "output_type": "execute_result"
    }
   ],
   "source": [
    "len(stations)"
   ]
  },
  {
   "cell_type": "code",
   "execution_count": 24,
   "metadata": {},
   "outputs": [
    {
     "data": {
      "text/plain": [
       "18675"
      ]
     },
     "execution_count": 24,
     "metadata": {},
     "output_type": "execute_result"
    }
   ],
   "source": [
    "len(sl)"
   ]
  },
  {
   "cell_type": "code",
   "execution_count": 25,
   "metadata": {},
   "outputs": [],
   "source": [
    "import time\n",
    "import datetime"
   ]
  },
  {
   "cell_type": "code",
   "execution_count": 26,
   "metadata": {},
   "outputs": [
    {
     "data": {
      "text/plain": [
       "[(50.75, 6.186, 'Aachen-Brand (WV NRW)', 'MN', 'H808', '25.03.2020'),\n",
       " (50.75, 6.186, 'Aachen-Brand (WV NRW)', 'RR', '87411', '24.03.2020'),\n",
       " (50.798, 6.024, 'Aachen-Orsbach', 'EB', '02206', '24.03.2020'),\n",
       " (50.798, 6.024, 'Aachen-Orsbach', 'FF', '02206', '24.03.2020'),\n",
       " (50.798, 6.024, 'Aachen-Orsbach', 'KL', '02206', '24.03.2020'),\n",
       " (50.798, 6.024, 'Aachen-Orsbach', 'MN', '10505', '25.03.2020'),\n",
       " (50.798, 6.024, 'Aachen-Orsbach', 'RR', '80311', '24.03.2020'),\n",
       " (50.798, 6.024, 'Aachen-Orsbach', 'SO', '02206', '24.03.2020'),\n",
       " (50.798, 6.024, 'Aachen-Orsbach', 'SY', '10505', '24.03.2020'),\n",
       " (50.798, 6.024, 'Aachen-Orsbach', 'TU', '02206', '24.03.2020')]"
      ]
     },
     "execution_count": 26,
     "metadata": {},
     "output_type": "execute_result"
    }
   ],
   "source": [
    "stations[:10]"
   ]
  },
  {
   "cell_type": "code",
   "execution_count": 27,
   "metadata": {},
   "outputs": [],
   "source": [
    "dt=(datetime.datetime.now()-sl['EndeDT'][3]).total_seconds()"
   ]
  },
  {
   "cell_type": "code",
   "execution_count": 28,
   "metadata": {},
   "outputs": [],
   "source": [
    "from urllib.request import urlopen"
   ]
  },
  {
   "cell_type": "code",
   "execution_count": 29,
   "metadata": {},
   "outputs": [],
   "source": [
    "def get_forecast_stations():\n",
    "    url='https://opendata.dwd.de/weather/local_forecasts/mos/MOSMIX_L/single_stations'\n",
    "    try:\n",
    "        resp=urlopen(url)\n",
    "        data=resp.read()\n",
    "    except Exception as e:\n",
    "        logging.error(f\"Failed to download {url}: {e}\")\n",
    "        return None\n",
    "    return data"
   ]
  },
  {
   "cell_type": "code",
   "execution_count": 30,
   "metadata": {},
   "outputs": [],
   "source": [
    "data=get_forecast_stations()"
   ]
  },
  {
   "cell_type": "code",
   "execution_count": 31,
   "metadata": {},
   "outputs": [],
   "source": [
    "from bs4 import BeautifulSoup"
   ]
  },
  {
   "cell_type": "code",
   "execution_count": 32,
   "metadata": {},
   "outputs": [],
   "source": [
    "soup = BeautifulSoup(data, 'html.parser')\n",
    "raw_stations = []\n",
    "for a in soup.find_all('a', href=True): \n",
    "    if a.text: \n",
    "        raw_stations.append(a['href'][:-1])\n",
    "raw_stations=raw_stations[1:]"
   ]
  },
  {
   "cell_type": "code",
   "execution_count": 33,
   "metadata": {},
   "outputs": [
    {
     "data": {
      "text/plain": [
       "['01001',\n",
       " '01008',\n",
       " '01025',\n",
       " '01028',\n",
       " '01049',\n",
       " '01052',\n",
       " '01059',\n",
       " '01089',\n",
       " '01092',\n",
       " '01112']"
      ]
     },
     "execution_count": 33,
     "metadata": {},
     "output_type": "execute_result"
    }
   ],
   "source": [
    "raw_stations[:10]"
   ]
  },
  {
   "cell_type": "code",
   "execution_count": 34,
   "metadata": {},
   "outputs": [
    {
     "data": {
      "text/plain": [
       "5899"
      ]
     },
     "execution_count": 34,
     "metadata": {},
     "output_type": "execute_result"
    }
   ],
   "source": [
    "len(raw_stations)"
   ]
  },
  {
   "cell_type": "code",
   "execution_count": 35,
   "metadata": {},
   "outputs": [],
   "source": [
    "val_stations=[]\n",
    "for i in range(len(sl)):\n",
    "    val_stations.append(sl['Stations-kennung'][i])"
   ]
  },
  {
   "cell_type": "code",
   "execution_count": 36,
   "metadata": {},
   "outputs": [
    {
     "data": {
      "text/plain": [
       "(18675, 5899)"
      ]
     },
     "execution_count": 36,
     "metadata": {},
     "output_type": "execute_result"
    }
   ],
   "source": [
    "len(val_stations), len(raw_stations)"
   ]
  },
  {
   "cell_type": "code",
   "execution_count": 37,
   "metadata": {},
   "outputs": [],
   "source": [
    "vir=[]\n",
    "riv=[]\n",
    "for i in range(len(val_stations)):\n",
    "    if val_stations[i] in raw_stations:\n",
    "        if val_stations[i] not in vir:\n",
    "            vir.append(val_stations[i])\n",
    "for i in range(len(raw_stations)):\n",
    "    if raw_stations[i] in val_stations:\n",
    "        riv.append(raw_stations[i])\n",
    "vir=sorted(vir)\n",
    "riv=sorted(riv)"
   ]
  },
  {
   "cell_type": "code",
   "execution_count": 38,
   "metadata": {},
   "outputs": [
    {
     "data": {
      "text/plain": [
       "(1750, 1750)"
      ]
     },
     "execution_count": 38,
     "metadata": {},
     "output_type": "execute_result"
    }
   ],
   "source": [
    "len(vir), len(riv)"
   ]
  },
  {
   "cell_type": "code",
   "execution_count": 39,
   "metadata": {},
   "outputs": [],
   "source": [
    "markers=[]\n",
    "done=[]\n",
    "for i in range(len(sl)):\n",
    "    kenn=sl['Stations-kennung'][i]\n",
    "    name=sl['Stationsname'][i]\n",
    "    if (kenn in vir) and (name not in done):\n",
    "        done.append(name)\n",
    "        marker = Marker(location=(sl['Breite'][i], sl['Länge'][i]), icon=icon_station, draggable=False, title=f\"{name}, id={kenn}\")\n",
    "        markers.append(marker)"
   ]
  },
  {
   "cell_type": "code",
   "execution_count": 40,
   "metadata": {},
   "outputs": [
    {
     "data": {
      "text/plain": [
       "1965"
      ]
     },
     "execution_count": 40,
     "metadata": {},
     "output_type": "execute_result"
    }
   ],
   "source": [
    "len(markers)"
   ]
  },
  {
   "cell_type": "code",
   "execution_count": 41,
   "metadata": {},
   "outputs": [],
   "source": [
    "marker_cluster = MarkerCluster(\n",
    "    markers=markers\n",
    ")"
   ]
  },
  {
   "cell_type": "code",
   "execution_count": 42,
   "metadata": {},
   "outputs": [],
   "source": [
    "m.add_layer(marker_cluster)"
   ]
  },
  {
   "cell_type": "code",
   "execution_count": 43,
   "metadata": {},
   "outputs": [
    {
     "data": {
      "application/vnd.jupyter.widget-view+json": {
       "model_id": "6440d215da3b47c985ce7179a2f44a44",
       "version_major": 2,
       "version_minor": 0
      },
      "text/plain": [
       "Map(center=[51.141000000000005, 10.469999999999999], controls=(ZoomControl(options=['position', 'zoom_in_text'…"
      ]
     },
     "metadata": {},
     "output_type": "display_data"
    }
   ],
   "source": [
    "m"
   ]
  },
  {
   "cell_type": "code",
   "execution_count": null,
   "metadata": {},
   "outputs": [],
   "source": []
  }
 ],
 "metadata": {
  "kernelspec": {
   "display_name": "Python 3",
   "language": "python",
   "name": "python3"
  },
  "language_info": {
   "codemirror_mode": {
    "name": "ipython",
    "version": 3
   },
   "file_extension": ".py",
   "mimetype": "text/x-python",
   "name": "python",
   "nbconvert_exporter": "python",
   "pygments_lexer": "ipython3",
   "version": "3.8.2"
  }
 },
 "nbformat": 4,
 "nbformat_minor": 4
}
