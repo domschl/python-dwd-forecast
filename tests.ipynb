{
 "cells": [
  {
   "cell_type": "code",
   "execution_count": 64,
   "metadata": {},
   "outputs": [],
   "source": [
    "import logging\n",
    "import matplotlib\n",
    "import matplotlib.pyplot as plt\n",
    "# import seaborn as sns\n",
    "%matplotlib inline\n",
    "\n",
    "from IPython.display import Image\n",
    "from IPython.core.display import HTML"
   ]
  },
  {
   "cell_type": "code",
   "execution_count": 65,
   "metadata": {},
   "outputs": [],
   "source": [
    "logging.basicConfig(format='%(asctime)s %(levelname)s %(name)s %(message)s', level=logging.DEBUG)\n",
    "mpl=logging.getLogger('matplotlib')\n",
    "mpl.setLevel(logging.WARNING)"
   ]
  },
  {
   "cell_type": "code",
   "execution_count": 6,
   "metadata": {},
   "outputs": [],
   "source": [
    "%load_ext autoreload\n",
    "%autoreload 2"
   ]
  },
  {
   "cell_type": "code",
   "execution_count": 770,
   "metadata": {},
   "outputs": [],
   "source": [
    "from dwd_forecast import DWD\n",
    "from weather_plot import DwdForecastPlot"
   ]
  },
  {
   "cell_type": "code",
   "execution_count": 771,
   "metadata": {},
   "outputs": [],
   "source": [
    "d=DWD()"
   ]
  },
  {
   "cell_type": "code",
   "execution_count": 772,
   "metadata": {},
   "outputs": [
    {
     "name": "stderr",
     "output_type": "stream",
     "text": [
      "2020-03-29 14:04:51,738 DEBUG DWD Read station list ./cache/station-list.json from cache\n"
     ]
    }
   ],
   "source": [
    "sl=d.read_station_list()"
   ]
  },
  {
   "cell_type": "code",
   "execution_count": 773,
   "metadata": {},
   "outputs": [
    {
     "data": {
      "text/html": [
       "<div>\n",
       "<style scoped>\n",
       "    .dataframe tbody tr th:only-of-type {\n",
       "        vertical-align: middle;\n",
       "    }\n",
       "\n",
       "    .dataframe tbody tr th {\n",
       "        vertical-align: top;\n",
       "    }\n",
       "\n",
       "    .dataframe thead th {\n",
       "        text-align: right;\n",
       "    }\n",
       "</style>\n",
       "<table border=\"1\" class=\"dataframe\">\n",
       "  <thead>\n",
       "    <tr style=\"text-align: right;\">\n",
       "      <th></th>\n",
       "      <th>Stationsname</th>\n",
       "      <th>Stations_ID</th>\n",
       "      <th>Kennung</th>\n",
       "      <th>Stations-kennung</th>\n",
       "      <th>Breite</th>\n",
       "      <th>Länge</th>\n",
       "      <th>Stations-höhe</th>\n",
       "      <th>Flussgebiet</th>\n",
       "      <th>Bundesland</th>\n",
       "      <th>Beginn</th>\n",
       "      <th>Ende</th>\n",
       "      <th>BeginnDT</th>\n",
       "      <th>EndeDT</th>\n",
       "    </tr>\n",
       "  </thead>\n",
       "  <tbody>\n",
       "    <tr>\n",
       "      <th>0</th>\n",
       "      <td>Aach</td>\n",
       "      <td>1</td>\n",
       "      <td>KL</td>\n",
       "      <td>02783</td>\n",
       "      <td>47.8410</td>\n",
       "      <td>8.8490</td>\n",
       "      <td>478</td>\n",
       "      <td>NaN</td>\n",
       "      <td>BW</td>\n",
       "      <td>01.01.1937</td>\n",
       "      <td>30.06.1986</td>\n",
       "      <td>1937-01-01</td>\n",
       "      <td>1986-06-30</td>\n",
       "    </tr>\n",
       "    <tr>\n",
       "      <th>1</th>\n",
       "      <td>Aach</td>\n",
       "      <td>1</td>\n",
       "      <td>RR</td>\n",
       "      <td>70191</td>\n",
       "      <td>47.8410</td>\n",
       "      <td>8.8490</td>\n",
       "      <td>478</td>\n",
       "      <td>NaN</td>\n",
       "      <td>BW</td>\n",
       "      <td>01.01.1912</td>\n",
       "      <td>30.06.1986</td>\n",
       "      <td>1912-01-01</td>\n",
       "      <td>1986-06-30</td>\n",
       "    </tr>\n",
       "    <tr>\n",
       "      <th>2</th>\n",
       "      <td>Aach/Hegau</td>\n",
       "      <td>10771</td>\n",
       "      <td>PE</td>\n",
       "      <td>10771</td>\n",
       "      <td>47.8500</td>\n",
       "      <td>8.8500</td>\n",
       "      <td>480</td>\n",
       "      <td>NaN</td>\n",
       "      <td>BW</td>\n",
       "      <td>None</td>\n",
       "      <td>None</td>\n",
       "      <td>NaT</td>\n",
       "      <td>NaT</td>\n",
       "    </tr>\n",
       "    <tr>\n",
       "      <th>3</th>\n",
       "      <td>Aachen</td>\n",
       "      <td>3</td>\n",
       "      <td>EB</td>\n",
       "      <td>02205</td>\n",
       "      <td>50.7827</td>\n",
       "      <td>6.0941</td>\n",
       "      <td>202</td>\n",
       "      <td>803100.0</td>\n",
       "      <td>NW</td>\n",
       "      <td>01.01.1951</td>\n",
       "      <td>31.03.2011</td>\n",
       "      <td>1951-01-01</td>\n",
       "      <td>2011-03-31</td>\n",
       "    </tr>\n",
       "    <tr>\n",
       "      <th>4</th>\n",
       "      <td>Aachen</td>\n",
       "      <td>3</td>\n",
       "      <td>FF</td>\n",
       "      <td>02205</td>\n",
       "      <td>50.7827</td>\n",
       "      <td>6.0941</td>\n",
       "      <td>202</td>\n",
       "      <td>803100.0</td>\n",
       "      <td>NW</td>\n",
       "      <td>01.01.1937</td>\n",
       "      <td>31.03.2011</td>\n",
       "      <td>1937-01-01</td>\n",
       "      <td>2011-03-31</td>\n",
       "    </tr>\n",
       "  </tbody>\n",
       "</table>\n",
       "</div>"
      ],
      "text/plain": [
       "  Stationsname  Stations_ID Kennung Stations-kennung   Breite   Länge  \\\n",
       "0         Aach            1      KL            02783  47.8410  8.8490   \n",
       "1         Aach            1      RR            70191  47.8410  8.8490   \n",
       "2   Aach/Hegau        10771      PE            10771  47.8500  8.8500   \n",
       "3       Aachen            3      EB            02205  50.7827  6.0941   \n",
       "4       Aachen            3      FF            02205  50.7827  6.0941   \n",
       "\n",
       "   Stations-höhe  Flussgebiet Bundesland      Beginn        Ende   BeginnDT  \\\n",
       "0            478          NaN         BW  01.01.1937  30.06.1986 1937-01-01   \n",
       "1            478          NaN         BW  01.01.1912  30.06.1986 1912-01-01   \n",
       "2            480          NaN         BW        None        None        NaT   \n",
       "3            202     803100.0         NW  01.01.1951  31.03.2011 1951-01-01   \n",
       "4            202     803100.0         NW  01.01.1937  31.03.2011 1937-01-01   \n",
       "\n",
       "      EndeDT  \n",
       "0 1986-06-30  \n",
       "1 1986-06-30  \n",
       "2        NaT  \n",
       "3 2011-03-31  \n",
       "4 2011-03-31  "
      ]
     },
     "execution_count": 773,
     "metadata": {},
     "output_type": "execute_result"
    }
   ],
   "source": [
    "sl.head()"
   ]
  },
  {
   "cell_type": "code",
   "execution_count": 774,
   "metadata": {},
   "outputs": [
    {
     "name": "stderr",
     "output_type": "stream",
     "text": [
      "2020-03-29 14:04:52,363 DEBUG DWD Station forecast 10865 read from cache ./cache/station-forecast-10865.json\n"
     ]
    }
   ],
   "source": [
    "dwc=d.station_forecast('10865')"
   ]
  },
  {
   "cell_type": "code",
   "execution_count": 775,
   "metadata": {},
   "outputs": [
    {
     "data": {
      "text/html": [
       "<div>\n",
       "<style scoped>\n",
       "    .dataframe tbody tr th:only-of-type {\n",
       "        vertical-align: middle;\n",
       "    }\n",
       "\n",
       "    .dataframe tbody tr th {\n",
       "        vertical-align: top;\n",
       "    }\n",
       "\n",
       "    .dataframe thead th {\n",
       "        text-align: right;\n",
       "    }\n",
       "</style>\n",
       "<table border=\"1\" class=\"dataframe\">\n",
       "  <thead>\n",
       "    <tr style=\"text-align: right;\">\n",
       "      <th></th>\n",
       "      <th>PPPP</th>\n",
       "      <th>E_PPP</th>\n",
       "      <th>TX</th>\n",
       "      <th>TTT</th>\n",
       "      <th>E_TTT</th>\n",
       "      <th>Td</th>\n",
       "      <th>E_Td</th>\n",
       "      <th>TN</th>\n",
       "      <th>TG</th>\n",
       "      <th>TM</th>\n",
       "      <th>...</th>\n",
       "      <th>RRad1</th>\n",
       "      <th>Rad1h</th>\n",
       "      <th>SunD1</th>\n",
       "      <th>SunD3</th>\n",
       "      <th>PEvap</th>\n",
       "      <th>WPc11</th>\n",
       "      <th>WPc31</th>\n",
       "      <th>WPc61</th>\n",
       "      <th>WPch1</th>\n",
       "      <th>WPcd1</th>\n",
       "    </tr>\n",
       "  </thead>\n",
       "  <tbody>\n",
       "    <tr>\n",
       "      <th>2020-03-29 10:00:00</th>\n",
       "      <td>101820</td>\n",
       "      <td>20</td>\n",
       "      <td>NaN</td>\n",
       "      <td>281.15</td>\n",
       "      <td>0.5</td>\n",
       "      <td>272.65</td>\n",
       "      <td>0.6</td>\n",
       "      <td>NaN</td>\n",
       "      <td>NaN</td>\n",
       "      <td>NaN</td>\n",
       "      <td>...</td>\n",
       "      <td>NaN</td>\n",
       "      <td>NaN</td>\n",
       "      <td>900</td>\n",
       "      <td>1380.0</td>\n",
       "      <td>NaN</td>\n",
       "      <td>3.0</td>\n",
       "      <td>NaN</td>\n",
       "      <td>NaN</td>\n",
       "      <td>NaN</td>\n",
       "      <td>NaN</td>\n",
       "    </tr>\n",
       "    <tr>\n",
       "      <th>2020-03-29 11:00:00</th>\n",
       "      <td>101780</td>\n",
       "      <td>40</td>\n",
       "      <td>NaN</td>\n",
       "      <td>281.55</td>\n",
       "      <td>0.5</td>\n",
       "      <td>272.75</td>\n",
       "      <td>0.8</td>\n",
       "      <td>NaN</td>\n",
       "      <td>NaN</td>\n",
       "      <td>NaN</td>\n",
       "      <td>...</td>\n",
       "      <td>NaN</td>\n",
       "      <td>NaN</td>\n",
       "      <td>960</td>\n",
       "      <td>2040.0</td>\n",
       "      <td>NaN</td>\n",
       "      <td>3.0</td>\n",
       "      <td>NaN</td>\n",
       "      <td>NaN</td>\n",
       "      <td>NaN</td>\n",
       "      <td>NaN</td>\n",
       "    </tr>\n",
       "    <tr>\n",
       "      <th>2020-03-29 12:00:00</th>\n",
       "      <td>101740</td>\n",
       "      <td>50</td>\n",
       "      <td>NaN</td>\n",
       "      <td>281.45</td>\n",
       "      <td>0.8</td>\n",
       "      <td>272.65</td>\n",
       "      <td>0.8</td>\n",
       "      <td>NaN</td>\n",
       "      <td>NaN</td>\n",
       "      <td>NaN</td>\n",
       "      <td>...</td>\n",
       "      <td>NaN</td>\n",
       "      <td>NaN</td>\n",
       "      <td>960</td>\n",
       "      <td>2700.0</td>\n",
       "      <td>NaN</td>\n",
       "      <td>3.0</td>\n",
       "      <td>3.0</td>\n",
       "      <td>3.0</td>\n",
       "      <td>NaN</td>\n",
       "      <td>NaN</td>\n",
       "    </tr>\n",
       "    <tr>\n",
       "      <th>2020-03-29 13:00:00</th>\n",
       "      <td>101740</td>\n",
       "      <td>50</td>\n",
       "      <td>NaN</td>\n",
       "      <td>281.25</td>\n",
       "      <td>0.9</td>\n",
       "      <td>272.65</td>\n",
       "      <td>0.9</td>\n",
       "      <td>NaN</td>\n",
       "      <td>NaN</td>\n",
       "      <td>NaN</td>\n",
       "      <td>...</td>\n",
       "      <td>NaN</td>\n",
       "      <td>NaN</td>\n",
       "      <td>660</td>\n",
       "      <td>2160.0</td>\n",
       "      <td>NaN</td>\n",
       "      <td>3.0</td>\n",
       "      <td>NaN</td>\n",
       "      <td>NaN</td>\n",
       "      <td>NaN</td>\n",
       "      <td>NaN</td>\n",
       "    </tr>\n",
       "    <tr>\n",
       "      <th>2020-03-29 14:00:00</th>\n",
       "      <td>101760</td>\n",
       "      <td>60</td>\n",
       "      <td>NaN</td>\n",
       "      <td>280.45</td>\n",
       "      <td>0.9</td>\n",
       "      <td>272.95</td>\n",
       "      <td>1.0</td>\n",
       "      <td>NaN</td>\n",
       "      <td>NaN</td>\n",
       "      <td>NaN</td>\n",
       "      <td>...</td>\n",
       "      <td>NaN</td>\n",
       "      <td>NaN</td>\n",
       "      <td>480</td>\n",
       "      <td>1620.0</td>\n",
       "      <td>NaN</td>\n",
       "      <td>61.0</td>\n",
       "      <td>NaN</td>\n",
       "      <td>NaN</td>\n",
       "      <td>NaN</td>\n",
       "      <td>NaN</td>\n",
       "    </tr>\n",
       "  </tbody>\n",
       "</table>\n",
       "<p>5 rows × 114 columns</p>\n",
       "</div>"
      ],
      "text/plain": [
       "                       PPPP  E_PPP  TX     TTT  E_TTT      Td  E_Td  TN  TG  \\\n",
       "2020-03-29 10:00:00  101820     20 NaN  281.15    0.5  272.65   0.6 NaN NaN   \n",
       "2020-03-29 11:00:00  101780     40 NaN  281.55    0.5  272.75   0.8 NaN NaN   \n",
       "2020-03-29 12:00:00  101740     50 NaN  281.45    0.8  272.65   0.8 NaN NaN   \n",
       "2020-03-29 13:00:00  101740     50 NaN  281.25    0.9  272.65   0.9 NaN NaN   \n",
       "2020-03-29 14:00:00  101760     60 NaN  280.45    0.9  272.95   1.0 NaN NaN   \n",
       "\n",
       "                     TM  ...  RRad1  Rad1h  SunD1   SunD3  PEvap  WPc11  \\\n",
       "2020-03-29 10:00:00 NaN  ...    NaN    NaN    900  1380.0    NaN    3.0   \n",
       "2020-03-29 11:00:00 NaN  ...    NaN    NaN    960  2040.0    NaN    3.0   \n",
       "2020-03-29 12:00:00 NaN  ...    NaN    NaN    960  2700.0    NaN    3.0   \n",
       "2020-03-29 13:00:00 NaN  ...    NaN    NaN    660  2160.0    NaN    3.0   \n",
       "2020-03-29 14:00:00 NaN  ...    NaN    NaN    480  1620.0    NaN   61.0   \n",
       "\n",
       "                     WPc31  WPc61  WPch1  WPcd1  \n",
       "2020-03-29 10:00:00    NaN    NaN    NaN    NaN  \n",
       "2020-03-29 11:00:00    NaN    NaN    NaN    NaN  \n",
       "2020-03-29 12:00:00    3.0    3.0    NaN    NaN  \n",
       "2020-03-29 13:00:00    NaN    NaN    NaN    NaN  \n",
       "2020-03-29 14:00:00    NaN    NaN    NaN    NaN  \n",
       "\n",
       "[5 rows x 114 columns]"
      ]
     },
     "execution_count": 775,
     "metadata": {},
     "output_type": "execute_result"
    }
   ],
   "source": [
    "dwc.head()"
   ]
  },
  {
   "cell_type": "code",
   "execution_count": 776,
   "metadata": {},
   "outputs": [],
   "source": [
    "my_lat, my_lon=(48.15, 11.56)"
   ]
  },
  {
   "cell_type": "code",
   "execution_count": 777,
   "metadata": {},
   "outputs": [
    {
     "name": "stderr",
     "output_type": "stream",
     "text": [
      "2020-03-29 14:04:54,448 DEBUG root Station 04124 fails\n",
      "2020-03-29 14:04:54,570 DEBUG root Station 04124 fails\n",
      "2020-03-29 14:04:54,699 DEBUG root Station 04124 fails\n"
     ]
    },
    {
     "name": "stdout",
     "output_type": "stream",
     "text": [
      "('10865', 'München-Stadt', Distance(1.9339969383980125))\n"
     ]
    }
   ],
   "source": [
    "nearest=d.get_closest(my_lat,my_lon)\n",
    "print(nearest)"
   ]
  },
  {
   "cell_type": "code",
   "execution_count": 778,
   "metadata": {},
   "outputs": [],
   "source": [
    "# sns.set()\n",
    "# matplotlib.rc_file_defaults()"
   ]
  },
  {
   "cell_type": "code",
   "execution_count": 779,
   "metadata": {},
   "outputs": [],
   "source": [
    "wp=DwdForecastPlot()"
   ]
  },
  {
   "cell_type": "code",
   "execution_count": 780,
   "metadata": {},
   "outputs": [
    {
     "name": "stderr",
     "output_type": "stream",
     "text": [
      "2020-03-29 14:04:54,945 DEBUG DWD Station forecast 10865 read from cache ./cache/station-forecast-10865.json\n"
     ]
    },
    {
     "data": {
      "text/plain": [
       "<Figure size 800x480 with 0 Axes>"
      ]
     },
     "metadata": {},
     "output_type": "display_data"
    },
    {
     "data": {
      "image/png": "[encoded data removed]",
      "text/plain": [
       "<Figure size 600x360 with 4 Axes>"
      ]
     },
     "metadata": {
      "needs_background": "light"
     },
     "output_type": "display_data"
    }
   ],
   "source": [
    "ax1=wp.plot(\"10865\",image_file='weather.png', close_plot=False)\n",
    "# Image('weather.png')"
   ]
  },
  {
   "cell_type": "code",
   "execution_count": null,
   "metadata": {},
   "outputs": [],
   "source": [
    "from ipyleaflet import Map, Marker, MarkerCluster, AwesomeIcon"
   ]
  },
  {
   "cell_type": "code",
   "execution_count": 212,
   "metadata": {},
   "outputs": [],
   "source": [
    "icon_home = AwesomeIcon(\n",
    "    name='home',\n",
    "    marker_color='blue',\n",
    "    icon_color='black',\n",
    "    spin=False\n",
    ")\n",
    "icon_station = AwesomeIcon(\n",
    "    name = 'thermometer-4',\n",
    "    marker_color='blue',\n",
    "    icon_color='black',\n",
    "    spin=False\n",
    ")\n"
   ]
  },
  {
   "cell_type": "code",
   "execution_count": 213,
   "metadata": {},
   "outputs": [],
   "source": [
    "home=(my_lat,my_lon)\n",
    "center=(min(sl['Breite'])+(max(sl['Breite'])-min(sl['Breite']))/2, min(sl['Länge'])+(max(sl['Länge'])-min(sl['Länge']))/2)\n",
    "m=Map(center=center, zoom=8)"
   ]
  },
  {
   "cell_type": "code",
   "execution_count": 214,
   "metadata": {},
   "outputs": [
    {
     "data": {
      "application/vnd.jupyter.widget-view+json": {
       "model_id": "39f0d2fc42834d6c8f9d7675bd3db95b",
       "version_major": 2,
       "version_minor": 0
      },
      "text/plain": [
       "Map(center=[51.141000000000005, 10.469999999999999], controls=(ZoomControl(options=['position', 'zoom_in_text'…"
      ]
     },
     "metadata": {},
     "output_type": "display_data"
    }
   ],
   "source": [
    "marker = Marker(location=home, icon=icon_home, draggable=False, title=\"DWD weather station\")\n",
    "m.add_layer(marker);\n",
    "\n",
    "display(m)"
   ]
  },
  {
   "cell_type": "code",
   "execution_count": 215,
   "metadata": {},
   "outputs": [
    {
     "data": {
      "text/plain": [
       "47.271"
      ]
     },
     "execution_count": 215,
     "metadata": {},
     "output_type": "execute_result"
    }
   ],
   "source": [
    "min(sl['Breite'])"
   ]
  },
  {
   "cell_type": "code",
   "execution_count": 216,
   "metadata": {},
   "outputs": [
    {
     "data": {
      "text/plain": [
       "55.011"
      ]
     },
     "execution_count": 216,
     "metadata": {},
     "output_type": "execute_result"
    }
   ],
   "source": [
    "max(sl['Breite'])"
   ]
  },
  {
   "cell_type": "code",
   "execution_count": 217,
   "metadata": {},
   "outputs": [],
   "source": [
    "import pandas as pd"
   ]
  },
  {
   "cell_type": "code",
   "execution_count": 218,
   "metadata": {},
   "outputs": [],
   "source": [
    "stations=[]\n",
    "for i in range(len(sl)):\n",
    "    if d._is_uptodate(i) is True:\n",
    "        stations.append((sl['Breite'][i], sl['Länge'][i], sl['Stationsname'][i], sl['Kennung'][i], sl['Stations-kennung'][i], sl['Ende'][i]))"
   ]
  },
  {
   "cell_type": "code",
   "execution_count": 219,
   "metadata": {},
   "outputs": [
    {
     "data": {
      "text/plain": [
       "5910"
      ]
     },
     "execution_count": 219,
     "metadata": {},
     "output_type": "execute_result"
    }
   ],
   "source": [
    "len(stations)"
   ]
  },
  {
   "cell_type": "code",
   "execution_count": 220,
   "metadata": {},
   "outputs": [
    {
     "data": {
      "text/plain": [
       "18676"
      ]
     },
     "execution_count": 220,
     "metadata": {},
     "output_type": "execute_result"
    }
   ],
   "source": [
    "len(sl)"
   ]
  },
  {
   "cell_type": "code",
   "execution_count": 221,
   "metadata": {},
   "outputs": [],
   "source": [
    "import time\n",
    "import datetime"
   ]
  },
  {
   "cell_type": "code",
   "execution_count": 222,
   "metadata": {},
   "outputs": [
    {
     "data": {
      "text/plain": [
       "[(50.75, 6.186, 'Aachen-Brand (WV NRW)', 'MN', 'H808', '28.03.2020'),\n",
       " (50.75, 6.186, 'Aachen-Brand (WV NRW)', 'RR', '87411', '27.03.2020'),\n",
       " (50.798, 6.024, 'Aachen-Orsbach', 'EB', '02206', '27.03.2020'),\n",
       " (50.798, 6.024, 'Aachen-Orsbach', 'FF', '02206', '27.03.2020'),\n",
       " (50.798, 6.024, 'Aachen-Orsbach', 'KL', '02206', '27.03.2020'),\n",
       " (50.798, 6.024, 'Aachen-Orsbach', 'MN', '10505', '28.03.2020'),\n",
       " (50.798, 6.024, 'Aachen-Orsbach', 'RR', '80311', '27.03.2020'),\n",
       " (50.798, 6.024, 'Aachen-Orsbach', 'SO', '02206', '27.03.2020'),\n",
       " (50.798, 6.024, 'Aachen-Orsbach', 'SY', '10505', '27.03.2020'),\n",
       " (50.798, 6.024, 'Aachen-Orsbach', 'TU', '02206', '27.03.2020')]"
      ]
     },
     "execution_count": 222,
     "metadata": {},
     "output_type": "execute_result"
    }
   ],
   "source": [
    "stations[:10]"
   ]
  },
  {
   "cell_type": "code",
   "execution_count": 223,
   "metadata": {},
   "outputs": [],
   "source": [
    "dt=(datetime.datetime.now()-sl['EndeDT'][3]).total_seconds()"
   ]
  },
  {
   "cell_type": "code",
   "execution_count": 224,
   "metadata": {},
   "outputs": [],
   "source": [
    "from urllib.request import urlopen"
   ]
  },
  {
   "cell_type": "code",
   "execution_count": 225,
   "metadata": {},
   "outputs": [],
   "source": [
    "def get_forecast_stations():\n",
    "    url='https://opendata.dwd.de/weather/local_forecasts/mos/MOSMIX_L/single_stations'\n",
    "    try:\n",
    "        resp=urlopen(url)\n",
    "        data=resp.read()\n",
    "    except Exception as e:\n",
    "        logging.error(f\"Failed to download {url}: {e}\")\n",
    "        return None\n",
    "    return data"
   ]
  },
  {
   "cell_type": "code",
   "execution_count": 226,
   "metadata": {},
   "outputs": [],
   "source": [
    "data=get_forecast_stations()"
   ]
  },
  {
   "cell_type": "code",
   "execution_count": 227,
   "metadata": {},
   "outputs": [],
   "source": [
    "from bs4 import BeautifulSoup"
   ]
  },
  {
   "cell_type": "code",
   "execution_count": 228,
   "metadata": {},
   "outputs": [],
   "source": [
    "soup = BeautifulSoup(data, 'html.parser')\n",
    "raw_stations = []\n",
    "for a in soup.find_all('a', href=True): \n",
    "    if a.text: \n",
    "        raw_stations.append(a['href'][:-1])\n",
    "raw_stations=raw_stations[1:]"
   ]
  },
  {
   "cell_type": "code",
   "execution_count": 229,
   "metadata": {},
   "outputs": [
    {
     "data": {
      "text/plain": [
       "['01001',\n",
       " '01008',\n",
       " '01025',\n",
       " '01028',\n",
       " '01049',\n",
       " '01052',\n",
       " '01059',\n",
       " '01089',\n",
       " '01092',\n",
       " '01112']"
      ]
     },
     "execution_count": 229,
     "metadata": {},
     "output_type": "execute_result"
    }
   ],
   "source": [
    "raw_stations[:10]"
   ]
  },
  {
   "cell_type": "code",
   "execution_count": 230,
   "metadata": {},
   "outputs": [
    {
     "data": {
      "text/plain": [
       "5899"
      ]
     },
     "execution_count": 230,
     "metadata": {},
     "output_type": "execute_result"
    }
   ],
   "source": [
    "len(raw_stations)"
   ]
  },
  {
   "cell_type": "code",
   "execution_count": 231,
   "metadata": {},
   "outputs": [],
   "source": [
    "val_stations=[]\n",
    "for i in range(len(sl)):\n",
    "    val_stations.append(sl['Stations-kennung'][i])"
   ]
  },
  {
   "cell_type": "code",
   "execution_count": 232,
   "metadata": {},
   "outputs": [
    {
     "data": {
      "text/plain": [
       "(18676, 5899)"
      ]
     },
     "execution_count": 232,
     "metadata": {},
     "output_type": "execute_result"
    }
   ],
   "source": [
    "len(val_stations), len(raw_stations)"
   ]
  },
  {
   "cell_type": "code",
   "execution_count": 233,
   "metadata": {},
   "outputs": [],
   "source": [
    "vir=[]\n",
    "riv=[]\n",
    "for i in range(len(val_stations)):\n",
    "    if val_stations[i] in raw_stations:\n",
    "        if val_stations[i] not in vir:\n",
    "            vir.append(val_stations[i])\n",
    "for i in range(len(raw_stations)):\n",
    "    if raw_stations[i] in val_stations:\n",
    "        riv.append(raw_stations[i])\n",
    "vir=sorted(vir)\n",
    "riv=sorted(riv)"
   ]
  },
  {
   "cell_type": "code",
   "execution_count": 234,
   "metadata": {},
   "outputs": [
    {
     "data": {
      "text/plain": [
       "(1750, 1750)"
      ]
     },
     "execution_count": 234,
     "metadata": {},
     "output_type": "execute_result"
    }
   ],
   "source": [
    "len(vir), len(riv)"
   ]
  },
  {
   "cell_type": "code",
   "execution_count": 235,
   "metadata": {},
   "outputs": [],
   "source": [
    "markers=[]\n",
    "done=[]\n",
    "for i in range(len(sl)):\n",
    "    kenn=sl['Stations-kennung'][i]\n",
    "    name=sl['Stationsname'][i]\n",
    "    if (kenn in vir) and (name not in done):\n",
    "        done.append(name)\n",
    "        marker = Marker(location=(sl['Breite'][i], sl['Länge'][i]), icon=icon_station, draggable=False, title=f\"{name}, id={kenn}\")\n",
    "        markers.append(marker)"
   ]
  },
  {
   "cell_type": "code",
   "execution_count": 236,
   "metadata": {},
   "outputs": [
    {
     "data": {
      "text/plain": [
       "1965"
      ]
     },
     "execution_count": 236,
     "metadata": {},
     "output_type": "execute_result"
    }
   ],
   "source": [
    "len(markers)"
   ]
  },
  {
   "cell_type": "code",
   "execution_count": 237,
   "metadata": {},
   "outputs": [],
   "source": [
    "marker_cluster = MarkerCluster(\n",
    "    markers=markers\n",
    ")"
   ]
  },
  {
   "cell_type": "code",
   "execution_count": 238,
   "metadata": {},
   "outputs": [],
   "source": [
    "m.add_layer(marker_cluster)"
   ]
  },
  {
   "cell_type": "code",
   "execution_count": 239,
   "metadata": {},
   "outputs": [
    {
     "data": {
      "application/vnd.jupyter.widget-view+json": {
       "model_id": "39f0d2fc42834d6c8f9d7675bd3db95b",
       "version_major": 2,
       "version_minor": 0
      },
      "text/plain": [
       "Map(center=[51.141000000000005, 10.469999999999999], controls=(ZoomControl(options=['position', 'zoom_in_text'…"
      ]
     },
     "metadata": {},
     "output_type": "display_data"
    }
   ],
   "source": [
    "m"
   ]
  },
  {
   "cell_type": "code",
   "execution_count": null,
   "metadata": {},
   "outputs": [],
   "source": []
  }
 ],
 "metadata": {
  "kernelspec": {
   "display_name": "Python 3",
   "language": "python",
   "name": "python3"
  },
  "language_info": {
   "codemirror_mode": {
    "name": "ipython",
    "version": 3
   },
   "file_extension": ".py",
   "mimetype": "text/x-python",
   "name": "python",
   "nbconvert_exporter": "python",
   "pygments_lexer": "ipython3",
   "version": "3.8.2"
  }
 },
 "nbformat": 4,
 "nbformat_minor": 4
}
